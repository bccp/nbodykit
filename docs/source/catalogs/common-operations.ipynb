{
 "cells": [
  {
   "cell_type": "code",
   "execution_count": 1,
   "metadata": {
    "nbsphinx": "hidden"
   },
   "outputs": [],
   "source": [
    "import tempfile, os\n",
    "import numpy\n",
    "startdir = os.path.abspath('.')\n",
    "tmpdir = tempfile.mkdtemp()\n",
    "os.chdir(tmpdir)\n",
    "\n",
    "numpy.random.seed(42)"
   ]
  },
  {
   "cell_type": "raw",
   "metadata": {
    "raw_mimetype": "text/restructuredtext"
   },
   "source": [
    ".. currentmodule:: nbodykit.base.catalog\n",
    "\n",
    ".. _common-operations:\n",
    "\n",
    "Common Data Operations\n",
    "======================\n",
    "\n",
    "Here, we detail some of the most common operations when dealing with\n",
    "data in the form of a :class:`CatalogSource`. The native format for data columns\n",
    "in a :class:`CatalogSource` object is the dask array. Be sure to read\n",
    "the :ref:`previous section <on-demand-io>` for an introduction to dask arrays\n",
    "before proceeding.\n",
    "\n",
    "The dask array format allows users to easily\n",
    "manipulate columns in their input data and feed any transformed data into one\n",
    "of the nbodykit algorithms. This provides a fast and easy way to transform\n",
    "the data while hiding the implementation details\n",
    "needed to compute these transformations internally. In this section, we'll\n",
    "provide examples of some of these data transformations to get users\n",
    "acclimated to dask arrays quickly.\n",
    "\n",
    ".. contents::\n",
    "   :depth: 2\n",
    "   :local:\n",
    "   :backlinks: none\n",
    "\n",
    "To help illustrate these operations, we'll initialize the nbodykit \"lab\"\n",
    "and load a catalog of uniformly distributed objects."
   ]
  },
  {
   "cell_type": "code",
   "execution_count": 2,
   "metadata": {},
   "outputs": [
    {
     "name": "stderr",
     "output_type": "stream",
     "text": [
      "/home/yfeng1/anaconda3/install/lib/python3.6/site-packages/h5py/__init__.py:36: FutureWarning: Conversion of the second argument of issubdtype from `float` to `np.floating` is deprecated. In future, it will be treated as `np.float64 == np.dtype(float).type`.\n",
      "  from ._conv import register_converters as _register_converters\n"
     ]
    }
   ],
   "source": [
    "from nbodykit.lab import *\n",
    "cat = UniformCatalog(nbar=100, BoxSize=1.0, seed=42)"
   ]
  },
  {
   "cell_type": "raw",
   "metadata": {
    "raw_mimetype": "text/restructuredtext"
   },
   "source": [
    ".. _accessing-columns:\n",
    "\n",
    "Accessing Data Columns\n",
    "-----------------------\n",
    "\n",
    "Specific columns can be accessed by indexing the catalog object using the\n",
    "column name, and a :class:`dask.array.Array` object is returned (see\n",
    ":ref:`what-is-dask-array` for more details on dask arrays)."
   ]
  },
  {
   "cell_type": "code",
   "execution_count": 3,
   "metadata": {},
   "outputs": [
    {
     "name": "stdout",
     "output_type": "stream",
     "text": [
      "dask.array<array, shape=(96, 3), dtype=float64, chunksize=(96, 3)> first: [0.45470105 0.83263203 0.06905134] last: [0.62474599 0.15388738 0.84302209]\n",
      "dask.array<array, shape=(96, 3), dtype=float64, chunksize=(96, 3)> first: [0.0006346  0.00675438 0.00704942] last: [0.00375581 0.00046149 0.00819726]\n"
     ]
    }
   ],
   "source": [
    "position = cat['Position']\n",
    "velocity = cat['Velocity']\n",
    "\n",
    "print(position)\n",
    "print(velocity)"
   ]
  },
  {
   "cell_type": "raw",
   "metadata": {
    "raw_mimetype": "text/restructuredtext"
   },
   "source": [
    "While in the format of the dask array, data columns can easily be manipulated\n",
    "by the user. For example, here we normalize the position coordinates to the\n",
    "range 0 to 1 by dividing by the box size:"
   ]
  },
  {
   "cell_type": "code",
   "execution_count": 4,
   "metadata": {},
   "outputs": [
    {
     "name": "stdout",
     "output_type": "stream",
     "text": [
      "dask.array<truediv, shape=(96, 3), dtype=float64, chunksize=(96, 3)>\n"
     ]
    }
   ],
   "source": [
    "# normalize the position\n",
    "normed_position = position / cat.attrs['BoxSize']\n",
    "\n",
    "print(normed_position)"
   ]
  },
  {
   "cell_type": "raw",
   "metadata": {
    "raw_mimetype": "text/restructuredtext"
   },
   "source": [
    "Note that the normalized position array is also a dask array and that the\n",
    "actual normalization operation is yet to occur. This makes these kinds of\n",
    "data transformations very fast for the user.\n",
    "\n",
    "Computing Data Columns\n",
    "----------------------\n",
    "\n",
    "Columns can be converted from :class:`dask.array.Array` objects to\n",
    "numpy arrays using the :func:`~CatalogSource.compute` function (see\n",
    ":ref:`evaluating-dask-array` for further details on computing dask arrays)."
   ]
  },
  {
   "cell_type": "code",
   "execution_count": 5,
   "metadata": {},
   "outputs": [
    {
     "name": "stdout",
     "output_type": "stream",
     "text": [
      "<class 'numpy.ndarray'>\n",
      "<class 'numpy.ndarray'>\n"
     ]
    }
   ],
   "source": [
    "position, velocity = cat.compute(cat['Position'], cat['Velocity'])\n",
    "\n",
    "print(type(position))\n",
    "print(type(velocity))"
   ]
  },
  {
   "cell_type": "raw",
   "metadata": {
    "raw_mimetype": "text/restructuredtext"
   },
   "source": [
    "We can also compute the max of the normalized position coordinates from\n",
    "the previous section:"
   ]
  },
  {
   "cell_type": "code",
   "execution_count": 6,
   "metadata": {},
   "outputs": [
    {
     "name": "stdout",
     "output_type": "stream",
     "text": [
      "dask.array<amax-aggregate, shape=(3,), dtype=float64, chunksize=(3,)>\n",
      "[0.9927406  0.99610592 0.99925086]\n"
     ]
    }
   ],
   "source": [
    "maxpos = normed_position.max(axis=0)\n",
    "print(maxpos)\n",
    "\n",
    "print(cat.compute(maxpos))"
   ]
  },
  {
   "cell_type": "raw",
   "metadata": {
    "raw_mimetype": "text/restructuredtext"
   },
   "source": [
    ".. _adding-columns:\n",
    "\n",
    "Adding New Columns\n",
    "------------------\n",
    "\n",
    "New columns can be easily added to a :class:`CatalogSource` object by\n",
    "directly setting them:"
   ]
  },
  {
   "cell_type": "code",
   "execution_count": 7,
   "metadata": {},
   "outputs": [
    {
     "name": "stdout",
     "output_type": "stream",
     "text": [
      "contains 'Mass'? : False\n",
      "contains 'Mass'? : True\n",
      "dask.array<array, shape=(96,), dtype=float64, chunksize=(96,)> first: 0.3745401188473625 last: 0.49379559636439074\n",
      "dask.array<array, shape=(96,), dtype=|S7, chunksize=(96,)> first: b'central' last: b'central'\n"
     ]
    }
   ],
   "source": [
    "# no \"Mass\" column originally\n",
    "print(\"contains 'Mass'? :\", 'Mass' in cat)\n",
    "\n",
    "# add a random array as the \"Mass\" column\n",
    "cat['Mass'] = numpy.random.random(size=len(cat))\n",
    "\n",
    "# \"Mass\" exists!\n",
    "print(\"contains 'Mass'? :\", 'Mass' in cat)\n",
    "\n",
    "# can also add scalar values -- converted to correct length\n",
    "cat['Type'] = b\"central\"\n",
    "\n",
    "print(cat['Mass'])\n",
    "print(cat['Type'])"
   ]
  },
  {
   "cell_type": "raw",
   "metadata": {
    "raw_mimetype": "text/restructuredtext"
   },
   "source": [
    "Here, we have added two new columns to the catalog, ``Mass`` and ``Type``.\n",
    "Internally, nbodykit stores the new columns as dask arrays and\n",
    "will automatically convert them to the correct type if they are not already.\n",
    "\n",
    "**Caveats**\n",
    "\n",
    "- New columns must be either be a scalar value, or an array with the same\n",
    "  length as the catalog. Scalar values will automatically be broadcast to\n",
    "  the correct length.\n",
    "- Setting a column of the wrong length will raise an exception.\n",
    "\n",
    ".. _overwriting-columns:\n",
    "\n",
    "Overwriting Columns\n",
    "-------------------\n",
    "\n",
    "The same syntax used for adding new columns can also be used to overwrite\n",
    "columns that already exist in a :class:`CatalogSource`. This procedure\n",
    "works as one would expect -- the most up-to-date values of columns are\n",
    "always used in operations.\n",
    "\n",
    "In the example below we overwrite both the ``Position`` and ``Velocity``\n",
    "columns, and each time the columns are accessed, the most up-to-date values\n",
    "are used, as expected."
   ]
  },
  {
   "cell_type": "code",
   "execution_count": 8,
   "metadata": {},
   "outputs": [
    {
     "name": "stdout",
     "output_type": "stream",
     "text": [
      "Velocity =  [[2. 2. 2.]\n",
      " [2. 2. 2.]\n",
      " [2. 2. 2.]\n",
      " [2. 2. 2.]\n",
      " [2. 2. 2.]]\n",
      "Position =  [[3. 3. 3.]\n",
      " [3. 3. 3.]\n",
      " [3. 3. 3.]\n",
      " [3. 3. 3.]\n",
      " [3. 3. 3.]]\n"
     ]
    }
   ],
   "source": [
    "# some fake data\n",
    "data = numpy.ones(5, dtype=[\n",
    "      ('Position', ('f4', 3)),\n",
    "      ('Velocity', ('f4', 3))]\n",
    "      )\n",
    "\n",
    "# initialize a catalog directly from the structured array\n",
    "src = ArrayCatalog(data)\n",
    "\n",
    "# overwrite the Velocity column\n",
    "src['Velocity'] = src['Position'] + src['Velocity'] # 1 + 1 = 2\n",
    "\n",
    "# overwrite the Position column\n",
    "src['Position'] = src['Position'] + src['Velocity'] # 1 + 2 = 3\n",
    "\n",
    "print(\"Velocity = \", src.compute(src['Velocity'])) # all equal to 2\n",
    "print(\"Position = \", src.compute(src['Position'])) # all equal to 3"
   ]
  },
  {
   "cell_type": "raw",
   "metadata": {
    "raw_mimetype": "text/restructuredtext"
   },
   "source": [
    ".. _adding-rsd:\n",
    "\n",
    "Adding Redshift-space Distortions\n",
    "---------------------------------\n",
    "\n",
    "A useful operation in large-scale structure is the mapping of positions\n",
    "in simulations from real space to redshift space, referred to\n",
    "as `redshift space distortions <https://arxiv.org/abs/astro-ph/9708102>`_ (RSD).\n",
    "This operation can be easily performed by combining the ``Position`` and\n",
    "``Velocity`` columns to overwrite the ``Position`` column. As first\n",
    "found by `Kaiser 1987 <http://adsabs.harvard.edu/abs/1987MNRAS.227....1K>`_,\n",
    "the mapping from real to redshift space is:\n",
    "\n",
    ".. math::\n",
    "\n",
    "    s = r + \\frac{\\vv \\cdot \\vnhat}{a H},\n",
    "\n",
    "where :math:`r` is the line-of-sight position in real space,\n",
    ":math:`s` is the line-of-sight position in redshift space, :math:`\\vv` is the\n",
    "velocity vector, :math:`\\vnhat` is the line-of-sight unit vector, :math:`a` is\n",
    "the scale factor, and :math:`H` is the Hubble parameter at :math:`a`.\n",
    "\n",
    "As an example, below we add RSD along the ``z`` axis of a simulation box:"
   ]
  },
  {
   "cell_type": "code",
   "execution_count": 9,
   "metadata": {},
   "outputs": [],
   "source": [
    "# apply RSD along the z axis\n",
    "line_of_sight = [0,0,1]\n",
    "\n",
    "# redshift and cosmology\n",
    "redshift =  0.55; cosmo = cosmology.Cosmology(h=0.7).match(Omega0_m=0.31)\n",
    "\n",
    "# the RSD normalization factor\n",
    "rsd_factor = (1+redshift) / (100 * cosmo.efunc(redshift))\n",
    "\n",
    "# update Position, applying RSD\n",
    "src['Position'] = src['Position'] + rsd_factor * transform.VectorProjection(src['Velocity'], line_of_sight)"
   ]
  },
  {
   "cell_type": "raw",
   "metadata": {
    "raw_mimetype": "text/restructuredtext"
   },
   "source": [
    "The RSD factor is known as the conformal Hubble parameter\n",
    ":math:`\\mathcal{H} = a H(a)`. This calculation requires a cosmology,\n",
    "which can be specified via the\n",
    ":class:`~nbodykit.cosmology.core.Cosmology` class. We use the\n",
    ":func:`~nbodykit.cosmology.core.Cosmology.efunc` function which returns\n",
    ":math:`E(z)`, where the Hubble parameter is defined as :math:`H(z) = 100h\\ E(z)`\n",
    "in units of km/s/Mpc. Note that the operation above assumes the ``Position``\n",
    "column is in units of :math:`\\mathrm{Mpc}/h`.\n",
    "\n",
    "For catalogs in nbodykit that generate mock data, such as the\n",
    ":ref:`log-normal catalogs <lognormal-mock-data>` or :ref:`HOD catalogs <hod-mock-data>`,\n",
    "there is an additional column, ``VelocityOffset``, available to facilitate\n",
    "RSD operations. This column has units of :math:`\\mathrm{Mpc}/h` and\n",
    "includes the ``rsd_factor`` above. Thus, this allows users to add RSD\n",
    "simply by using:\n",
    "\n",
    ".. code-block:: python\n",
    "\n",
    "    src['Position'] = src['Position'] + transform.VectorProjection(src['VelocityOffset'], line_of_sight)"
   ]
  },
  {
   "cell_type": "raw",
   "metadata": {
    "raw_mimetype": "text/restructuredtext"
   },
   "source": [
    "Selecting a Subset\n",
    "------------------\n",
    "\n",
    "A subset of a :class:`CatalogSource` object can be selected using slice notation.\n",
    "There are two ways to select a subset:\n",
    "\n",
    "#. use a boolean array, which specifies which rows of the catalog to select\n",
    "#. use a slice object specifying which rows of the catalog to select\n",
    "\n",
    "For example,"
   ]
  },
  {
   "cell_type": "code",
   "execution_count": 10,
   "metadata": {},
   "outputs": [
    {
     "name": "stdout",
     "output_type": "stream",
     "text": [
      "number of True entries =  50\n",
      "size of subcat =  50\n",
      "size of subcat =  10\n",
      "size of subcat =  2\n"
     ]
    }
   ],
   "source": [
    "# boolean selection array\n",
    "select = cat['Mass'] < 0.5\n",
    "print(\"number of True entries = \", cat.compute(select.sum()))\n",
    "\n",
    "# select only entries where select = True\n",
    "subcat = cat[select]\n",
    "\n",
    "print(\"size of subcat = \", subcat.size)\n",
    "\n",
    "# select the first ten rows\n",
    "subcat = cat[:10]\n",
    "print(\"size of subcat = \", subcat.size)\n",
    "\n",
    "# select first and last row\n",
    "subcat = cat[[0, -1]]\n",
    "print(\"size of subcat = \", subcat.size)"
   ]
  },
  {
   "cell_type": "raw",
   "metadata": {
    "raw_mimetype": "text/restructuredtext"
   },
   "source": [
    "**Caveats**\n",
    "\n",
    "- When indexing with a boolean array, the array must have the same length as\n",
    "  the :attr:`size` attribute, or an exception will be raised.\n",
    "- Selecting a single object by indexing with an integer is not supported. If\n",
    "  the user wishes to select a single row, a list of length one can be used to\n",
    "  select the specific row."
   ]
  },
  {
   "cell_type": "raw",
   "metadata": {
    "raw_mimetype": "text/restructuredtext"
   },
   "source": [
    "Selecting a Subset of Columns from a ``CatalogSource``\n",
    "------------------------------------------------------\n",
    "\n",
    "A subset of columns can be selected from a :class:`CatalogSource` object by\n",
    "indexing the catalog with a list of the names of the desired columns.\n",
    "For example,"
   ]
  },
  {
   "cell_type": "code",
   "execution_count": 11,
   "metadata": {},
   "outputs": [
    {
     "name": "stdout",
     "output_type": "stream",
     "text": [
      "columns in catalog =  ['Mass', 'Position', 'Selection', 'Type', 'Value', 'Velocity', 'Weight']\n",
      "columns in subset =  ['Mass', 'Position', 'Selection', 'Value', 'Weight']\n"
     ]
    }
   ],
   "source": [
    "print(\"columns in catalog = \", cat.columns)\n",
    "\n",
    "# select Position + Mass\n",
    "subcat = cat[['Position', 'Mass']]\n",
    "\n",
    "# the selected columns + default columns\n",
    "print(\"columns in subset = \", subcat.columns)"
   ]
  },
  {
   "cell_type": "raw",
   "metadata": {
    "raw_mimetype": "text/restructuredtext"
   },
   "source": [
    "**Caveats**\n",
    "\n",
    "- When selecting a subset of columns, note that in addition to the desired columns,\n",
    "  the sub-catalog will also contain the\n",
    "  :ref:`default columns <catalog-source-default-columns>` (``Weight``, ``Value``,\n",
    "  and ``Selection``).\n",
    "\n",
    ".. _transform-ops:\n",
    "\n",
    "The ``nbodykit.transform`` module\n",
    "---------------------------------\n",
    "\n",
    "The :mod:`nbodykit.transform` module includes several commonly used functions\n",
    "for convenience. We describe a few of the most common use cases in the sub-sections\n",
    "below.\n",
    "\n",
    ".. note::\n",
    "  The :mod:`~nbodykit.transform` module is available to users when\n",
    "  ``from nbodykit.lab import *`` is executed.\n",
    "\n",
    ".. _combining-sources:\n",
    "\n",
    "Concatenating ``CatalogSource`` Objects\n",
    "^^^^^^^^^^^^^^^^^^^^^^^^^^^^^^^^^^^^^^^\n",
    "\n",
    "When :class:`CatalogSource` objects have the same columns, they can be\n",
    "concatenated together into a single object using the\n",
    ":func:`nbodykit.transform.ConcatenateSources` function. For example,"
   ]
  },
  {
   "cell_type": "code",
   "execution_count": 12,
   "metadata": {},
   "outputs": [
    {
     "name": "stdout",
     "output_type": "stream",
     "text": [
      "total size = 47 + 145 = 192\n"
     ]
    }
   ],
   "source": [
    "cat1 = UniformCatalog(nbar=50, BoxSize=1.0, seed=42)\n",
    "cat2 = UniformCatalog(nbar=150, BoxSize=1.0, seed=42)\n",
    "\n",
    "combined = transform.ConcatenateSources(cat1, cat2)\n",
    "\n",
    "print(\"total size = %d + %d = %d\" %(cat1.size, cat2.size, combined.size))"
   ]
  },
  {
   "cell_type": "raw",
   "metadata": {
    "raw_mimetype": "text/restructuredtext"
   },
   "source": [
    ".. _stacking-columns:\n",
    "\n",
    "Stacking Columns Together\n",
    "^^^^^^^^^^^^^^^^^^^^^^^^^\n",
    "\n",
    "Another common use case is when users need to combine separate\n",
    "data columns vertically, as the columns of a new array. For example, often the\n",
    "Cartesian position coordinates ``x``, ``y``, and ``z`` are stored as separate\n",
    "columns, and the ``Position`` column must be added to a catalog from these\n",
    "individual columns. We provide the :func:`nbodykit.transform.StackColumns`\n",
    "function for this exact purpose. For example,"
   ]
  },
  {
   "cell_type": "code",
   "execution_count": 13,
   "metadata": {},
   "outputs": [
    {
     "name": "stdout",
     "output_type": "stream",
     "text": [
      "dask.array<transpose, shape=(5, 3), dtype=float64, chunksize=(5, 1)> first: [0.52273283 0.42754102 0.02541913] last: [0.22879817 0.07697991 0.28975145]\n",
      "[[0.52273283 0.42754102 0.02541913]\n",
      " [0.10789143 0.03142919 0.63641041]\n",
      " [0.31435598 0.50857069 0.90756647]\n",
      " [0.24929223 0.41038292 0.75555114]\n",
      " [0.22879817 0.07697991 0.28975145]]\n"
     ]
    }
   ],
   "source": [
    "# fake position data\n",
    "data = numpy.random.random(size=(5,3))\n",
    "\n",
    "# save to a plaintext file\n",
    "numpy.savetxt('csv-example.dat', data, fmt='%.7e')\n",
    "\n",
    "# the cartesian coordinates\n",
    "names =['x', 'y', 'z']\n",
    "\n",
    "# read the data\n",
    "f = CSVCatalog('csv-example.dat', names)\n",
    "\n",
    "# make the \"Position\" column\n",
    "f['Position'] =  transform.StackColumns(f['x'], f['y'], f['z'])\n",
    "\n",
    "print(f['Position'])\n",
    "print(f.compute(f['Position']))"
   ]
  },
  {
   "cell_type": "raw",
   "metadata": {
    "raw_mimetype": "text/restructuredtext"
   },
   "source": [
    ".. _sky-to-cartesian:\n",
    "\n",
    "Converting from Sky to Cartesian Coordinates\n",
    "^^^^^^^^^^^^^^^^^^^^^^^^^^^^^^^^^^^^^^^^^^^^\n",
    "\n",
    "We provide the function :func:`nbodykit.transform.SkyToCartesian` for converting\n",
    "sky coordinates, in the form of right ascension, declination, and redshift,\n",
    "to Cartesian coordinates. The conversion from redshift to comoving distance\n",
    "requires a cosmology instance, which can be specified via the\n",
    ":class:`~nbodykit.cosmology.core.Cosmology` class.\n",
    "\n",
    "Below, we initialize a catalog holding random right ascension,\n",
    "declination, and redshift coordinates, and then add the Cartesian position\n",
    "as the ``Position`` column.\n",
    "\n",
    "The random number generator provided by a RandomCatalog always generate the correct number\n",
    "of items for the catalog. Use the ? to see its docstring."
   ]
  },
  {
   "cell_type": "code",
   "execution_count": 14,
   "metadata": {},
   "outputs": [],
   "source": [
    "src = RandomCatalog(100, seed=42)\n",
    "\n",
    "# add random (ra, dec, z) coordinates\n",
    "src['z'] = src.rng.normal(loc=0.5, scale=0.1)\n",
    "src['ra'] = src.rng.uniform(low=0, high=360)\n",
    "src['dec'] = src.rng.uniform(low=-180, high=180.)\n",
    "\n",
    "# initialize a set of cosmology parameters\n",
    "cosmo = cosmology.Cosmology(h=0.7)\n",
    "\n",
    "# add the position\n",
    "src['Position'] = transform.SkyToCartesian(src['ra'], src['dec'], src['z'], degrees=True, cosmo=cosmo)"
   ]
  },
  {
   "cell_type": "raw",
   "metadata": {
    "raw_mimetype": "text/restructuredtext"
   },
   "source": [
    "**Caveats**\n",
    "\n",
    "- Whether the right ascension and declination arrays are in degrees\n",
    "  (as opposed to radians) should be specified via the ``degrees`` keyword.\n",
    "- The units of the returned ``Position`` column are :math:`\\mathrm{Mpc}/h`.\n",
    "\n",
    ".. _transform-da:\n",
    "\n",
    "Using the ``dask.array`` module\n",
    "^^^^^^^^^^^^^^^^^^^^^^^^^^^^^^^\n",
    "\n",
    "For more general column transformations, users should take advantage of the\n",
    ":mod:`dask.array` module, which implements most functions in the :mod:`numpy`\n",
    "package in a manner optimized for dask arrays. The module can be accessed from the\n",
    ":mod:`nbodykit.transform` module as :mod:`nbodykit.transform.da`.\n",
    "\n",
    "\n",
    ".. important::\n",
    "\n",
    "    For a full list of functions available in the :mod:`dask.array` module,\n",
    "    please see the :doc:`dask array documentation <dask:array-api>`.\n",
    "    We strongly recommend that new users read through this documentation\n",
    "    and familiarize themselves with the functionality provided by\n",
    "    the :mod:`dask.array` module.\n",
    "\n",
    "As a simple illustration, below we convert an array holding right ascension values from\n",
    "degrees to radians, compute the sine of the array, and find the min and\n",
    "max values using functions available in the :mod:`dask.array` module."
   ]
  },
  {
   "cell_type": "code",
   "execution_count": 15,
   "metadata": {},
   "outputs": [
    {
     "name": "stdout",
     "output_type": "stream",
     "text": [
      "min(sin(ra)) =  -0.999907640154132\n",
      "max(sin(ra)) =  0.9988053754673173\n"
     ]
    }
   ],
   "source": [
    "ra = transform.da.deg2rad(src['ra']) # from degrees to radians\n",
    "sin_ra = transform.da.sin(ra) # compute the sine\n",
    "\n",
    "print(\"min(sin(ra)) = \", src.compute(sin_ra.min()))\n",
    "print(\"max(sin(ra)) = \", src.compute(sin_ra.max()))"
   ]
  },
  {
   "cell_type": "code",
   "execution_count": 16,
   "metadata": {
    "nbsphinx": "hidden"
   },
   "outputs": [],
   "source": [
    "import shutil\n",
    "os.chdir(startdir)\n",
    "shutil.rmtree(tmpdir)"
   ]
  }
 ],
 "metadata": {
  "celltoolbar": "Edit Metadata",
  "kernelspec": {
   "display_name": "Python 3",
   "language": "python",
   "name": "python3"
  },
  "language_info": {
   "codemirror_mode": {
    "name": "ipython",
    "version": 3
   },
   "file_extension": ".py",
   "mimetype": "text/x-python",
   "name": "python",
   "nbconvert_exporter": "python",
   "pygments_lexer": "ipython3",
   "version": "3.6.5"
  }
 },
 "nbformat": 4,
 "nbformat_minor": 2
}
