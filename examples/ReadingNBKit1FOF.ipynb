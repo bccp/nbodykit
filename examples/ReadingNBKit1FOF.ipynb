{
 "cells": [
  {
   "cell_type": "code",
   "execution_count": 1,
   "metadata": {},
   "outputs": [
    {
     "name": "stdout",
     "output_type": "stream",
     "text": [
      "Populating the interactive namespace from numpy and matplotlib\n"
     ]
    }
   ],
   "source": [
    "%pylab inline"
   ]
  },
  {
   "cell_type": "code",
   "execution_count": 2,
   "metadata": {
    "collapsed": true
   },
   "outputs": [],
   "source": [
    "import nbodykit.lab as nlab"
   ]
  },
  {
   "cell_type": "code",
   "execution_count": 3,
   "metadata": {},
   "outputs": [],
   "source": [
    "# Use path to any nbodykit 0.1.x FOF catalogue file\n",
    "cat = nlab.HDFCatalog('./output/fof_ll0.200_1.0000.hdf5', 'FOFGroups')"
   ]
  },
  {
   "cell_type": "code",
   "execution_count": 4,
   "metadata": {},
   "outputs": [
    {
     "data": {
      "text/plain": [
       "['InitialPosition', 'Length', 'Position', 'Selection', 'Velocity', 'Weight']"
      ]
     },
     "execution_count": 4,
     "metadata": {},
     "output_type": "execute_result"
    }
   ],
   "source": [
    "cat.columns"
   ]
  },
  {
   "cell_type": "code",
   "execution_count": 5,
   "metadata": {},
   "outputs": [
    {
     "data": {
      "text/plain": [
       "array([[ 0.99749643,  0.00169637,  0.00772012],\n",
       "       [ 0.10318882,  0.45619035,  0.13430744],\n",
       "       [ 0.59076834,  0.4335967 ,  0.97040516],\n",
       "       [ 0.15837042,  0.07852833,  0.48281893],\n",
       "       [ 0.57589543,  0.89760643,  0.33320153],\n",
       "       [ 0.97962379,  0.9485063 ,  0.73405337],\n",
       "       [ 0.39012414,  0.33662853,  0.68443793],\n",
       "       [ 0.32708982,  0.23739287,  0.32986504],\n",
       "       [ 0.2193608 ,  0.36659649,  0.97176474],\n",
       "       [ 0.90227377,  0.21752802,  0.31822142]], dtype=float32)"
      ]
     },
     "execution_count": 5,
     "metadata": {},
     "output_type": "execute_result"
    }
   ],
   "source": [
    "cat['Position'][:10].compute()"
   ]
  },
  {
   "cell_type": "code",
   "execution_count": 6,
   "metadata": {},
   "outputs": [],
   "source": [
    "cat['Position'] = cat['Position'] * cat.attrs['BoxSize']\n",
    "cat['VelocityOffset'] = cat['Velocity'] * cat.attrs['BoxSize']\n",
    "# add RSD\n",
    "cat['Position'] = cat['Position'] + cat['VelocityOffset'] * [0, 0, 1]\n",
    "cat['Selection'] = cat['Length'] * 1e12 > 1e13"
   ]
  },
  {
   "cell_type": "code",
   "execution_count": 7,
   "metadata": {},
   "outputs": [
    {
     "data": {
      "text/plain": [
       "array([[ -1.22528084e-03,  -4.68146536e-04,  -4.95916069e-03],\n",
       "       [  2.20598781e+00,  -1.04948062e+00,   3.61116207e+00],\n",
       "       [  1.05990949e+00,  -3.36050498e+00,   1.57266390e+00],\n",
       "       [  1.64616072e+00,   5.31914735e+00,   2.70750958e+00],\n",
       "       [ -3.36869931e+00,  -1.13192341e+00,   1.49011472e+00],\n",
       "       [  1.25694439e+00,   1.83436078e+00,  -2.90486151e+00],\n",
       "       [ -1.04875231e+00,  -5.24975610e+00,  -1.04227227e+00],\n",
       "       [  1.14127882e-01,   2.03242457e+00,  -4.49990764e-01],\n",
       "       [  1.79616250e-01,  -5.68012387e-01,   3.73590374e+00],\n",
       "       [ -1.96571159e+00,  -2.96716762e+00,   1.24750871e-01]])"
      ]
     },
     "execution_count": 7,
     "metadata": {},
     "output_type": "execute_result"
    }
   ],
   "source": [
    "cat['Position'][:10].compute()\n",
    "cat['VelocityOffset'][:10].compute()"
   ]
  },
  {
   "cell_type": "code",
   "execution_count": 8,
   "metadata": {},
   "outputs": [],
   "source": [
    "r = nlab.FFTPower(cat, mode='2d', Nmesh=128)"
   ]
  },
  {
   "cell_type": "code",
   "execution_count": 9,
   "metadata": {},
   "outputs": [
    {
     "data": {
      "image/png": "[encoded data removed]",
      "text/plain": [
       "<matplotlib.figure.Figure at 0x7f2a0a05e320>"
      ]
     },
     "metadata": {},
     "output_type": "display_data"
    }
   ],
   "source": [
    "plot(r.power['k'], abs(r.power['power']))\n",
    "xscale('log')\n",
    "yscale('log')"
   ]
  },
  {
   "cell_type": "code",
   "execution_count": null,
   "metadata": {
    "collapsed": true
   },
   "outputs": [],
   "source": []
  }
 ],
 "metadata": {
  "kernelspec": {
   "display_name": "Python [conda root]",
   "language": "python",
   "name": "conda-root-py"
  },
  "language_info": {
   "codemirror_mode": {
    "name": "ipython",
    "version": 3
   },
   "file_extension": ".py",
   "mimetype": "text/x-python",
   "name": "python",
   "nbconvert_exporter": "python",
   "pygments_lexer": "ipython3",
   "version": "3.5.2"
  }
 },
 "nbformat": 4,
 "nbformat_minor": 2
}
